{
 "cells": [
  {
   "cell_type": "code",
   "execution_count": null,
   "metadata": {
    "collapsed": true
   },
   "outputs": [],
   "source": [
    "import urllib.request\n",
    "from zipfile import ZipFile"
   ]
  },
  {
   "cell_type": "code",
   "execution_count": 6,
   "metadata": {
    "collapsed": true
   },
   "outputs": [],
   "source": [
    "data_directory = '../data/'"
   ]
  },
  {
   "cell_type": "markdown",
   "metadata": {},
   "source": [
    "Research Article Data\n",
    "===\n",
    "(from https://academicgraph.blob.core.windows.net/graph-2016-02-05/index.html)"
   ]
  },
  {
   "cell_type": "code",
   "execution_count": 16,
   "metadata": {
    "collapsed": false
   },
   "outputs": [],
   "source": [
    "url_base = 'https://academicgraph.blob.core.windows.net/graph-2016-02-05/'\n",
    "\n",
    "file_directory = 'Microsoft_Academic_Graph/'\n",
    "\n",
    "files = ['FieldsOfStudy.zip',\n",
    "         'FieldOfStudyHierarchy.zip',\n",
    "         'Journals.zip',\n",
    "         'Affiliations.zip',\n",
    "         'PaperAuthorAffiliations.zip',\n",
    "         'PaperReferences.zip',\n",
    "         'Papers.zip',\n",
    "         'PaperKeywords.zip'\n",
    "         ]\n",
    "\n",
    "from time import time\n",
    "for file in files:\n",
    "    print(file)\n",
    "    t = time()\n",
    "    urllib.request.urlretrieve(url_base+file, \n",
    "                               data_directory+file_directory+file)\n",
    "    ZipFile(data_directory+file_directory+file).extractall(data_directory+file_directory)\n",
    "    print(time()-t)\n",
    "    \n"
   ]
  },
  {
   "cell_type": "code",
   "execution_count": 17,
   "metadata": {
    "collapsed": false
   },
   "outputs": [],
   "source": [
    "url_base = 'http://www.patentsview.org/data/20160518/'\n",
    "\n",
    "file_directory = 'PatentsView/'\n",
    "\n",
    "files = ['cpc_current.zip',\n",
    "         'cpc_group.zip',\n",
    "         'cpc_subgroup.zip',\n",
    "         'cpc_subsection.zip',\n",
    "         'patent.zip',\n",
    "         'uspatentcitation.zip',\n",
    "         'inventor.zip',\n",
    "         'patent_inventor.zip'\n",
    "         ]\n",
    "\n",
    "for file in files:\n",
    "    print(file)\n",
    "    t = time()\n",
    "    urllib.request.urlretrieve(url_base+file, data_directory+file_directory+file)\n",
    "    ZipFile(data_directory+file_directory+file).extractall(data_directory+file_directory)\n",
    "    print(time()-t)"
   ]
  }
 ],
 "metadata": {
  "kernelspec": {
   "display_name": "Python 3",
   "language": "python",
   "name": "python3"
  },
  "language_info": {
   "codemirror_mode": {
    "name": "ipython",
    "version": 3
   },
   "file_extension": ".py",
   "mimetype": "text/x-python",
   "name": "python",
   "nbconvert_exporter": "python",
   "pygments_lexer": "ipython3",
   "version": "3.4.5"
  }
 },
 "nbformat": 4,
 "nbformat_minor": 0
}
