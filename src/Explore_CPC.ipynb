{
 "cells": [
  {
   "cell_type": "code",
   "execution_count": 1,
   "metadata": {
    "collapsed": false
   },
   "outputs": [
    {
     "name": "stdout",
     "output_type": "stream",
     "text": [
      "Populating the interactive namespace from numpy and matplotlib\n"
     ]
    }
   ],
   "source": [
    "import pandas as pd\n",
    "import seaborn as sns\n",
    "%pylab inline"
   ]
  },
  {
   "cell_type": "code",
   "execution_count": 2,
   "metadata": {
    "collapsed": true
   },
   "outputs": [],
   "source": [
    "data_directory = '../data/'"
   ]
  },
  {
   "cell_type": "code",
   "execution_count": 3,
   "metadata": {
    "collapsed": false
   },
   "outputs": [],
   "source": [
    "df = pd.read_csv(data_directory+'cpc_current.tsv', sep='\\t')"
   ]
  },
  {
   "cell_type": "code",
   "execution_count": 4,
   "metadata": {
    "collapsed": true
   },
   "outputs": [],
   "source": [
    "df['subgroup_aggregated_id'] = df['subgroup_id'].map(lambda x: x.split('/')[0])"
   ]
  },
  {
   "cell_type": "code",
   "execution_count": 5,
   "metadata": {
    "collapsed": false
   },
   "outputs": [
    {
     "data": {
      "text/plain": [
       "1     0.502934\n",
       "2     0.797008\n",
       "3     0.921684\n",
       "4     0.969597\n",
       "5     0.987800\n",
       "6     0.994893\n",
       "7     0.997688\n",
       "8     0.998814\n",
       "9     0.999324\n",
       "10    0.999554\n",
       "11    0.999712\n",
       "12    0.999816\n",
       "13    0.999854\n",
       "14    0.999903\n",
       "15    0.999949\n",
       "16    0.999959\n",
       "17    0.999967\n",
       "18    0.999977\n",
       "19    0.999980\n",
       "20    0.999991\n",
       "21    0.999995\n",
       "22    0.999997\n",
       "23    1.000000\n",
       "Name: group_id, dtype: float64"
      ]
     },
     "execution_count": 5,
     "metadata": {},
     "output_type": "execute_result"
    }
   ],
   "source": [
    "q = df.groupby(['patent_id'])['group_id'].nunique()\n",
    "z = q.value_counts().sort_index()\n",
    "z.cumsum()/z.sum()"
   ]
  },
  {
   "cell_type": "code",
   "execution_count": 6,
   "metadata": {
    "collapsed": false
   },
   "outputs": [
    {
     "data": {
      "text/plain": [
       "1     0.297072\n",
       "2     0.567012\n",
       "3     0.739478\n",
       "4     0.842762\n",
       "5     0.903357\n",
       "6     0.939232\n",
       "7     0.960937\n",
       "8     0.974276\n",
       "9     0.982751\n",
       "10    0.988132\n",
       "11    0.991639\n",
       "12    0.993987\n",
       "13    0.995630\n",
       "14    0.996734\n",
       "15    0.997533\n",
       "16    0.998078\n",
       "17    0.998496\n",
       "18    0.998799\n",
       "19    0.999058\n",
       "20    0.999221\n",
       "21    0.999377\n",
       "22    0.999480\n",
       "23    0.999567\n",
       "24    0.999655\n",
       "25    0.999702\n",
       "26    0.999737\n",
       "27    0.999771\n",
       "28    0.999801\n",
       "29    0.999816\n",
       "30    0.999836\n",
       "        ...   \n",
       "49    0.999974\n",
       "51    0.999974\n",
       "52    0.999974\n",
       "53    0.999975\n",
       "54    0.999976\n",
       "55    0.999976\n",
       "56    0.999976\n",
       "57    0.999977\n",
       "58    0.999977\n",
       "59    0.999980\n",
       "60    0.999983\n",
       "61    0.999984\n",
       "62    0.999985\n",
       "63    0.999986\n",
       "64    0.999986\n",
       "65    0.999989\n",
       "66    0.999990\n",
       "67    0.999990\n",
       "68    0.999990\n",
       "69    0.999991\n",
       "70    0.999991\n",
       "71    0.999992\n",
       "73    0.999992\n",
       "74    0.999992\n",
       "75    0.999995\n",
       "76    0.999995\n",
       "77    0.999997\n",
       "78    0.999997\n",
       "79    0.999998\n",
       "80    1.000000\n",
       "Name: subgroup_aggregated_id, dtype: float64"
      ]
     },
     "execution_count": 6,
     "metadata": {},
     "output_type": "execute_result"
    }
   ],
   "source": [
    "r = df.groupby(['patent_id'])['subgroup_aggregated_id'].nunique()\n",
    "z = r.value_counts().sort_index()\n",
    "z.cumsum()/z.sum()"
   ]
  },
  {
   "cell_type": "code",
   "execution_count": 7,
   "metadata": {
    "collapsed": false
   },
   "outputs": [
    {
     "data": {
      "text/plain": [
       "1      0.179507\n",
       "2      0.365748\n",
       "3      0.514450\n",
       "4      0.627053\n",
       "5      0.710917\n",
       "6      0.773463\n",
       "7      0.820530\n",
       "8      0.855922\n",
       "9      0.882930\n",
       "10     0.903681\n",
       "11     0.920263\n",
       "12     0.933238\n",
       "13     0.943466\n",
       "14     0.951602\n",
       "15     0.958379\n",
       "16     0.963822\n",
       "17     0.968332\n",
       "18     0.972073\n",
       "19     0.975197\n",
       "20     0.977877\n",
       "21     0.980134\n",
       "22     0.982067\n",
       "23     0.983800\n",
       "24     0.985264\n",
       "25     0.986603\n",
       "26     0.987856\n",
       "27     0.988884\n",
       "28     0.989818\n",
       "29     0.990627\n",
       "30     0.991354\n",
       "         ...   \n",
       "163    0.999982\n",
       "165    0.999982\n",
       "168    0.999984\n",
       "171    0.999985\n",
       "172    0.999986\n",
       "173    0.999987\n",
       "174    0.999988\n",
       "178    0.999989\n",
       "179    0.999990\n",
       "180    0.999991\n",
       "184    0.999991\n",
       "186    0.999994\n",
       "195    0.999995\n",
       "207    0.999996\n",
       "216    0.999996\n",
       "224    0.999996\n",
       "225    0.999996\n",
       "234    0.999997\n",
       "237    0.999997\n",
       "242    0.999997\n",
       "252    0.999997\n",
       "270    0.999997\n",
       "271    0.999998\n",
       "291    0.999998\n",
       "298    0.999998\n",
       "299    0.999998\n",
       "309    0.999999\n",
       "310    0.999999\n",
       "327    0.999999\n",
       "335    1.000000\n",
       "Name: subgroup_id, dtype: float64"
      ]
     },
     "execution_count": 7,
     "metadata": {},
     "output_type": "execute_result"
    }
   ],
   "source": [
    "r = df.groupby(['patent_id'])['subgroup_id'].nunique()\n",
    "z = r.value_counts().sort_index()\n",
    "z.cumsum()/z.sum()"
   ]
  },
  {
   "cell_type": "code",
   "execution_count": 8,
   "metadata": {
    "collapsed": false
   },
   "outputs": [],
   "source": [
    "df_primary = df[df['category']=='primary']"
   ]
  },
  {
   "cell_type": "code",
   "execution_count": 9,
   "metadata": {
    "collapsed": false
   },
   "outputs": [
    {
     "data": {
      "text/plain": [
       "1     0.637876\n",
       "2     0.896966\n",
       "3     0.971292\n",
       "4     0.991329\n",
       "5     0.996937\n",
       "6     0.998626\n",
       "7     0.999276\n",
       "8     0.999548\n",
       "9     0.999686\n",
       "10    0.999809\n",
       "11    0.999899\n",
       "12    0.999945\n",
       "13    0.999971\n",
       "14    0.999982\n",
       "15    0.999991\n",
       "16    0.999991\n",
       "17    0.999998\n",
       "18    0.999998\n",
       "20    1.000000\n",
       "Name: group_id, dtype: float64"
      ]
     },
     "execution_count": 9,
     "metadata": {},
     "output_type": "execute_result"
    }
   ],
   "source": [
    "q = df_primary.groupby(['patent_id'])['group_id'].nunique()\n",
    "z = q.value_counts().sort_index()\n",
    "z.cumsum()/z.sum()"
   ]
  },
  {
   "cell_type": "code",
   "execution_count": 10,
   "metadata": {
    "collapsed": false
   },
   "outputs": [
    {
     "data": {
      "text/plain": [
       "1     0.479146\n",
       "2     0.769132\n",
       "3     0.897897\n",
       "4     0.951789\n",
       "5     0.975339\n",
       "6     0.986295\n",
       "7     0.991729\n",
       "8     0.994756\n",
       "9     0.996452\n",
       "10    0.997469\n",
       "11    0.998137\n",
       "12    0.998600\n",
       "13    0.998912\n",
       "14    0.999158\n",
       "15    0.999315\n",
       "16    0.999441\n",
       "17    0.999547\n",
       "18    0.999603\n",
       "19    0.999664\n",
       "20    0.999726\n",
       "21    0.999763\n",
       "22    0.999792\n",
       "23    0.999839\n",
       "24    0.999861\n",
       "25    0.999887\n",
       "26    0.999904\n",
       "27    0.999909\n",
       "28    0.999918\n",
       "29    0.999921\n",
       "30    0.999935\n",
       "        ...   \n",
       "32    0.999946\n",
       "33    0.999948\n",
       "34    0.999952\n",
       "35    0.999955\n",
       "36    0.999957\n",
       "37    0.999960\n",
       "38    0.999966\n",
       "39    0.999967\n",
       "40    0.999971\n",
       "41    0.999974\n",
       "42    0.999979\n",
       "43    0.999981\n",
       "44    0.999985\n",
       "45    0.999985\n",
       "46    0.999985\n",
       "47    0.999987\n",
       "48    0.999988\n",
       "49    0.999990\n",
       "50    0.999992\n",
       "51    0.999995\n",
       "52    0.999995\n",
       "53    0.999995\n",
       "54    0.999996\n",
       "55    0.999997\n",
       "56    0.999997\n",
       "58    0.999998\n",
       "59    0.999998\n",
       "60    0.999999\n",
       "61    1.000000\n",
       "62    1.000000\n",
       "Name: subgroup_aggregated_id, dtype: float64"
      ]
     },
     "execution_count": 10,
     "metadata": {},
     "output_type": "execute_result"
    }
   ],
   "source": [
    "r = df_primary.groupby(['patent_id'])['subgroup_aggregated_id'].nunique()\n",
    "z = r.value_counts().sort_index()\n",
    "z.cumsum()/z.sum()"
   ]
  },
  {
   "cell_type": "code",
   "execution_count": 11,
   "metadata": {
    "collapsed": false
   },
   "outputs": [
    {
     "data": {
      "text/plain": [
       "1      0.299912\n",
       "2      0.555302\n",
       "3      0.715949\n",
       "4      0.813612\n",
       "5      0.873581\n",
       "6      0.911569\n",
       "7      0.936448\n",
       "8      0.953265\n",
       "9      0.965043\n",
       "10     0.973322\n",
       "11     0.979379\n",
       "12     0.983851\n",
       "13     0.987050\n",
       "14     0.989396\n",
       "15     0.991267\n",
       "16     0.992734\n",
       "17     0.993870\n",
       "18     0.994807\n",
       "19     0.995543\n",
       "20     0.996133\n",
       "21     0.996630\n",
       "22     0.997046\n",
       "23     0.997391\n",
       "24     0.997690\n",
       "25     0.997905\n",
       "26     0.998148\n",
       "27     0.998346\n",
       "28     0.998502\n",
       "29     0.998618\n",
       "30     0.998720\n",
       "         ...   \n",
       "106    0.999988\n",
       "107    0.999990\n",
       "109    0.999990\n",
       "111    0.999991\n",
       "114    0.999991\n",
       "115    0.999991\n",
       "116    0.999992\n",
       "121    0.999993\n",
       "122    0.999993\n",
       "124    0.999993\n",
       "125    0.999994\n",
       "126    0.999994\n",
       "134    0.999995\n",
       "142    0.999996\n",
       "145    0.999996\n",
       "153    0.999996\n",
       "155    0.999996\n",
       "162    0.999997\n",
       "166    0.999997\n",
       "168    0.999997\n",
       "177    0.999997\n",
       "195    0.999997\n",
       "196    0.999998\n",
       "211    0.999998\n",
       "212    0.999998\n",
       "214    0.999998\n",
       "218    0.999999\n",
       "220    0.999999\n",
       "234    0.999999\n",
       "242    1.000000\n",
       "Name: subgroup_id, dtype: float64"
      ]
     },
     "execution_count": 11,
     "metadata": {},
     "output_type": "execute_result"
    }
   ],
   "source": [
    "r = df_primary.groupby(['patent_id'])['subgroup_id'].nunique()\n",
    "z = r.value_counts().sort_index()\n",
    "z.cumsum()/z.sum()"
   ]
  },
  {
   "cell_type": "code",
   "execution_count": 12,
   "metadata": {
    "collapsed": false
   },
   "outputs": [
    {
     "data": {
      "text/plain": [
       "2.8406311339705566"
      ]
     },
     "execution_count": 12,
     "metadata": {},
     "output_type": "execute_result"
    }
   ],
   "source": [
    "df.groupby(['patent_id'])['subgroup_aggregated_id'].nunique().mean()"
   ]
  },
  {
   "cell_type": "code",
   "execution_count": 13,
   "metadata": {
    "collapsed": false
   },
   "outputs": [
    {
     "data": {
      "text/plain": [
       "1.9697845299977346"
      ]
     },
     "execution_count": 13,
     "metadata": {},
     "output_type": "execute_result"
    }
   ],
   "source": [
    "df_primary.groupby(['patent_id'])['subgroup_aggregated_id'].nunique().mean()"
   ]
  },
  {
   "cell_type": "code",
   "execution_count": 14,
   "metadata": {
    "collapsed": false
   },
   "outputs": [
    {
     "name": "stdout",
     "output_type": "stream",
     "text": [
      "625\n"
     ]
    },
    {
     "data": {
      "image/png": "[encoded data removed]",
      "text/plain": [
       "<matplotlib.figure.Figure at 0x2b8f3734b668>"
      ]
     },
     "metadata": {},
     "output_type": "display_data"
    }
   ],
   "source": [
    "import powerlaw\n",
    "powerlaw.plot_cdf(df_primary['group_id'].value_counts().values)\n",
    "yscale('linear')\n",
    "xscale('log')\n",
    "print(df_primary['group_id'].nunique())"
   ]
  },
  {
   "cell_type": "code",
   "execution_count": 15,
   "metadata": {
    "collapsed": false
   },
   "outputs": [
    {
     "name": "stdout",
     "output_type": "stream",
     "text": [
      "7085\n"
     ]
    },
    {
     "data": {
      "text/plain": [
       "0.55558770430038706"
      ]
     },
     "execution_count": 15,
     "metadata": {},
     "output_type": "execute_result"
    },
    {
     "data": {
      "image/png": "[encoded data removed]",
      "text/plain": [
       "<matplotlib.figure.Figure at 0x2b8fd456f9b0>"
      ]
     },
     "metadata": {},
     "output_type": "display_data"
    }
   ],
   "source": [
    "import powerlaw\n",
    "z = df_primary['subgroup_aggregated_id'].value_counts()\n",
    "powerlaw.plot_cdf(z.values)\n",
    "yscale('linear')\n",
    "xscale('log')\n",
    "print(len(z))\n",
    "mean(z>sqrt(len(z)))**2"
   ]
  },
  {
   "cell_type": "code",
   "execution_count": 16,
   "metadata": {
    "collapsed": false
   },
   "outputs": [
    {
     "data": {
      "image/png": "[encoded data removed]",
      "text/plain": [
       "<matplotlib.figure.Figure at 0x2b8fd40c1978>"
      ]
     },
     "metadata": {},
     "output_type": "display_data"
    }
   ],
   "source": [
    "import powerlaw\n",
    "powerlaw.plot_cdf(df_primary['subgroup_id'].value_counts().values)\n",
    "yscale('linear')\n",
    "xscale('log')"
   ]
  },
  {
   "cell_type": "code",
   "execution_count": 112,
   "metadata": {
    "collapsed": false,
    "scrolled": true
   },
   "outputs": [
    {
     "name": "stderr",
     "output_type": "stream",
     "text": [
      "/home/jeffrey_alstott/anaconda3/lib/python3.4/site-packages/IPython/core/interactiveshell.py:2705: DtypeWarning: Columns (0) have mixed types. Specify dtype option on import or set low_memory=False.\n",
      "  interactivity=interactivity, compiler=compiler, result=result)\n"
     ]
    }
   ],
   "source": [
    "patent_years = pd.read_csv(data_directory+'patent.tsv', sep='\\t', usecols=['id', 'date'])\n",
    "\n",
    "\n",
    "patent_years['id'] = pd.to_numeric(patent_years['id'], errors='coerce')\n",
    "\n",
    "patent_years['date'] = pd.to_datetime(patent_years['date'], errors='coerce')\n",
    "patent_years['year'] = pd.DatetimeIndex(patent_years['date']).year\n",
    "\n",
    "patent_years.dropna(inplace=True)\n",
    "patent_years.set_index('id', inplace=True)"
   ]
  },
  {
   "cell_type": "code",
   "execution_count": 171,
   "metadata": {
    "collapsed": false
   },
   "outputs": [],
   "source": [
    "q = df['subgroup_aggregated_id'].unique()"
   ]
  },
  {
   "cell_type": "code",
   "execution_count": 172,
   "metadata": {
    "collapsed": false
   },
   "outputs": [
    {
     "ename": "KeyboardInterrupt",
     "evalue": "",
     "output_type": "error",
     "traceback": [
      "\u001b[0;31m---------------------------------------------------------------------------\u001b[0m",
      "\u001b[0;31mKeyError\u001b[0m                                  Traceback (most recent call last)",
      "\u001b[0;32m/home/jeffrey_alstott/anaconda3/lib/python3.4/site-packages/pandas/indexes/base.py\u001b[0m in \u001b[0;36mget_loc\u001b[0;34m(self, key, method, tolerance)\u001b[0m\n\u001b[1;32m   1944\u001b[0m             \u001b[0;32mtry\u001b[0m\u001b[0;34m:\u001b[0m\u001b[0;34m\u001b[0m\u001b[0m\n\u001b[0;32m-> 1945\u001b[0;31m                 \u001b[0;32mreturn\u001b[0m \u001b[0mself\u001b[0m\u001b[0;34m.\u001b[0m\u001b[0m_engine\u001b[0m\u001b[0;34m.\u001b[0m\u001b[0mget_loc\u001b[0m\u001b[0;34m(\u001b[0m\u001b[0mkey\u001b[0m\u001b[0;34m)\u001b[0m\u001b[0;34m\u001b[0m\u001b[0m\n\u001b[0m\u001b[1;32m   1946\u001b[0m             \u001b[0;32mexcept\u001b[0m \u001b[0mKeyError\u001b[0m\u001b[0;34m:\u001b[0m\u001b[0;34m\u001b[0m\u001b[0m\n",
      "\u001b[0;32mpandas/index.pyx\u001b[0m in \u001b[0;36mpandas.index.IndexEngine.get_loc (pandas/index.c:4154)\u001b[0;34m()\u001b[0m\n",
      "\u001b[0;32mpandas/index.pyx\u001b[0m in \u001b[0;36mpandas.index.IndexEngine.get_loc (pandas/index.c:4018)\u001b[0;34m()\u001b[0m\n",
      "\u001b[0;32mpandas/hashtable.pyx\u001b[0m in \u001b[0;36mpandas.hashtable.PyObjectHashTable.get_item (pandas/hashtable.c:12368)\u001b[0;34m()\u001b[0m\n",
      "\u001b[0;32mpandas/hashtable.pyx\u001b[0m in \u001b[0;36mpandas.hashtable.PyObjectHashTable.get_item (pandas/hashtable.c:12322)\u001b[0;34m()\u001b[0m\n",
      "\u001b[0;31mKeyError\u001b[0m: 'C22C13'",
      "\nDuring handling of the above exception, another exception occurred:\n",
      "\u001b[0;31mKeyError\u001b[0m                                  Traceback (most recent call last)",
      "\u001b[0;32m/home/jeffrey_alstott/anaconda3/lib/python3.4/site-packages/pandas/core/internals.py\u001b[0m in \u001b[0;36mset\u001b[0;34m(self, item, value, check)\u001b[0m\n\u001b[1;32m   3414\u001b[0m         \u001b[0;32mtry\u001b[0m\u001b[0;34m:\u001b[0m\u001b[0;34m\u001b[0m\u001b[0m\n\u001b[0;32m-> 3415\u001b[0;31m             \u001b[0mloc\u001b[0m \u001b[0;34m=\u001b[0m \u001b[0mself\u001b[0m\u001b[0;34m.\u001b[0m\u001b[0mitems\u001b[0m\u001b[0;34m.\u001b[0m\u001b[0mget_loc\u001b[0m\u001b[0;34m(\u001b[0m\u001b[0mitem\u001b[0m\u001b[0;34m)\u001b[0m\u001b[0;34m\u001b[0m\u001b[0m\n\u001b[0m\u001b[1;32m   3416\u001b[0m         \u001b[0;32mexcept\u001b[0m \u001b[0mKeyError\u001b[0m\u001b[0;34m:\u001b[0m\u001b[0;34m\u001b[0m\u001b[0m\n",
      "\u001b[0;32m/home/jeffrey_alstott/anaconda3/lib/python3.4/site-packages/pandas/indexes/base.py\u001b[0m in \u001b[0;36mget_loc\u001b[0;34m(self, key, method, tolerance)\u001b[0m\n\u001b[1;32m   1946\u001b[0m             \u001b[0;32mexcept\u001b[0m \u001b[0mKeyError\u001b[0m\u001b[0;34m:\u001b[0m\u001b[0;34m\u001b[0m\u001b[0m\n\u001b[0;32m-> 1947\u001b[0;31m                 \u001b[0;32mreturn\u001b[0m \u001b[0mself\u001b[0m\u001b[0;34m.\u001b[0m\u001b[0m_engine\u001b[0m\u001b[0;34m.\u001b[0m\u001b[0mget_loc\u001b[0m\u001b[0;34m(\u001b[0m\u001b[0mself\u001b[0m\u001b[0;34m.\u001b[0m\u001b[0m_maybe_cast_indexer\u001b[0m\u001b[0;34m(\u001b[0m\u001b[0mkey\u001b[0m\u001b[0;34m)\u001b[0m\u001b[0;34m)\u001b[0m\u001b[0;34m\u001b[0m\u001b[0m\n\u001b[0m\u001b[1;32m   1948\u001b[0m \u001b[0;34m\u001b[0m\u001b[0m\n",
      "\u001b[0;32mpandas/index.pyx\u001b[0m in \u001b[0;36mpandas.index.IndexEngine.get_loc (pandas/index.c:4154)\u001b[0;34m()\u001b[0m\n",
      "\u001b[0;32mpandas/index.pyx\u001b[0m in \u001b[0;36mpandas.index.IndexEngine.get_loc (pandas/index.c:4018)\u001b[0;34m()\u001b[0m\n",
      "\u001b[0;32mpandas/hashtable.pyx\u001b[0m in \u001b[0;36mpandas.hashtable.PyObjectHashTable.get_item (pandas/hashtable.c:12368)\u001b[0;34m()\u001b[0m\n",
      "\u001b[0;32mpandas/hashtable.pyx\u001b[0m in \u001b[0;36mpandas.hashtable.PyObjectHashTable.get_item (pandas/hashtable.c:12322)\u001b[0;34m()\u001b[0m\n",
      "\u001b[0;31mKeyError\u001b[0m: 'C22C13'",
      "\nDuring handling of the above exception, another exception occurred:\n",
      "\u001b[0;31mKeyboardInterrupt\u001b[0m                         Traceback (most recent call last)",
      "\u001b[0;32m<ipython-input-172-be9815d488c9>\u001b[0m in \u001b[0;36m<module>\u001b[0;34m()\u001b[0m\n\u001b[0;32m----> 1\u001b[0;31m \u001b[0mq\u001b[0m \u001b[0;34m=\u001b[0m \u001b[0mpd\u001b[0m\u001b[0;34m.\u001b[0m\u001b[0mSparseDataFrame\u001b[0m\u001b[0;34m(\u001b[0m\u001b[0mcolumns\u001b[0m\u001b[0;34m=\u001b[0m\u001b[0mq\u001b[0m\u001b[0;34m,\u001b[0m\u001b[0mindex\u001b[0m\u001b[0;34m=\u001b[0m\u001b[0mq\u001b[0m\u001b[0;34m)\u001b[0m\u001b[0;34m\u001b[0m\u001b[0m\n\u001b[0m",
      "\u001b[0;32m/home/jeffrey_alstott/anaconda3/lib/python3.4/site-packages/pandas/sparse/frame.py\u001b[0m in \u001b[0;36m__init__\u001b[0;34m(self, data, index, columns, default_kind, default_fill_value, dtype, copy)\u001b[0m\n\u001b[1;32m    112\u001b[0m                     data[c] = SparseArray(np.nan, index=index,\n\u001b[1;32m    113\u001b[0m                                           \u001b[0mkind\u001b[0m\u001b[0;34m=\u001b[0m\u001b[0mself\u001b[0m\u001b[0;34m.\u001b[0m\u001b[0m_default_kind\u001b[0m\u001b[0;34m,\u001b[0m\u001b[0;34m\u001b[0m\u001b[0m\n\u001b[0;32m--> 114\u001b[0;31m                                           fill_value=self._default_fill_value)\n\u001b[0m\u001b[1;32m    115\u001b[0m             \u001b[0mmgr\u001b[0m \u001b[0;34m=\u001b[0m \u001b[0mto_manager\u001b[0m\u001b[0;34m(\u001b[0m\u001b[0mdata\u001b[0m\u001b[0;34m,\u001b[0m \u001b[0mcolumns\u001b[0m\u001b[0;34m,\u001b[0m \u001b[0mindex\u001b[0m\u001b[0;34m)\u001b[0m\u001b[0;34m\u001b[0m\u001b[0m\n\u001b[1;32m    116\u001b[0m             \u001b[0;32mif\u001b[0m \u001b[0mdtype\u001b[0m \u001b[0;32mis\u001b[0m \u001b[0;32mnot\u001b[0m \u001b[0;32mNone\u001b[0m\u001b[0;34m:\u001b[0m\u001b[0;34m\u001b[0m\u001b[0m\n",
      "\u001b[0;32m/home/jeffrey_alstott/anaconda3/lib/python3.4/site-packages/pandas/core/frame.py\u001b[0m in \u001b[0;36m__setitem__\u001b[0;34m(self, key, value)\u001b[0m\n\u001b[1;32m   2355\u001b[0m         \u001b[0;32melse\u001b[0m\u001b[0;34m:\u001b[0m\u001b[0;34m\u001b[0m\u001b[0m\n\u001b[1;32m   2356\u001b[0m             \u001b[0;31m# set column\u001b[0m\u001b[0;34m\u001b[0m\u001b[0;34m\u001b[0m\u001b[0m\n\u001b[0;32m-> 2357\u001b[0;31m             \u001b[0mself\u001b[0m\u001b[0;34m.\u001b[0m\u001b[0m_set_item\u001b[0m\u001b[0;34m(\u001b[0m\u001b[0mkey\u001b[0m\u001b[0;34m,\u001b[0m \u001b[0mvalue\u001b[0m\u001b[0;34m)\u001b[0m\u001b[0;34m\u001b[0m\u001b[0m\n\u001b[0m\u001b[1;32m   2358\u001b[0m \u001b[0;34m\u001b[0m\u001b[0m\n\u001b[1;32m   2359\u001b[0m     \u001b[0;32mdef\u001b[0m \u001b[0m_setitem_slice\u001b[0m\u001b[0;34m(\u001b[0m\u001b[0mself\u001b[0m\u001b[0;34m,\u001b[0m \u001b[0mkey\u001b[0m\u001b[0;34m,\u001b[0m \u001b[0mvalue\u001b[0m\u001b[0;34m)\u001b[0m\u001b[0;34m:\u001b[0m\u001b[0;34m\u001b[0m\u001b[0m\n",
      "\u001b[0;32m/home/jeffrey_alstott/anaconda3/lib/python3.4/site-packages/pandas/core/frame.py\u001b[0m in \u001b[0;36m_set_item\u001b[0;34m(self, key, value)\u001b[0m\n\u001b[1;32m   2422\u001b[0m         \u001b[0mself\u001b[0m\u001b[0;34m.\u001b[0m\u001b[0m_ensure_valid_index\u001b[0m\u001b[0;34m(\u001b[0m\u001b[0mvalue\u001b[0m\u001b[0;34m)\u001b[0m\u001b[0;34m\u001b[0m\u001b[0m\n\u001b[1;32m   2423\u001b[0m         \u001b[0mvalue\u001b[0m \u001b[0;34m=\u001b[0m \u001b[0mself\u001b[0m\u001b[0;34m.\u001b[0m\u001b[0m_sanitize_column\u001b[0m\u001b[0;34m(\u001b[0m\u001b[0mkey\u001b[0m\u001b[0;34m,\u001b[0m \u001b[0mvalue\u001b[0m\u001b[0;34m)\u001b[0m\u001b[0;34m\u001b[0m\u001b[0m\n\u001b[0;32m-> 2424\u001b[0;31m         \u001b[0mNDFrame\u001b[0m\u001b[0;34m.\u001b[0m\u001b[0m_set_item\u001b[0m\u001b[0;34m(\u001b[0m\u001b[0mself\u001b[0m\u001b[0;34m,\u001b[0m \u001b[0mkey\u001b[0m\u001b[0;34m,\u001b[0m \u001b[0mvalue\u001b[0m\u001b[0;34m)\u001b[0m\u001b[0;34m\u001b[0m\u001b[0m\n\u001b[0m\u001b[1;32m   2425\u001b[0m \u001b[0;34m\u001b[0m\u001b[0m\n\u001b[1;32m   2426\u001b[0m         \u001b[0;31m# check if we are modifying a copy\u001b[0m\u001b[0;34m\u001b[0m\u001b[0;34m\u001b[0m\u001b[0m\n",
      "\u001b[0;32m/home/jeffrey_alstott/anaconda3/lib/python3.4/site-packages/pandas/core/generic.py\u001b[0m in \u001b[0;36m_set_item\u001b[0;34m(self, key, value)\u001b[0m\n\u001b[1;32m   1462\u001b[0m \u001b[0;34m\u001b[0m\u001b[0m\n\u001b[1;32m   1463\u001b[0m     \u001b[0;32mdef\u001b[0m \u001b[0m_set_item\u001b[0m\u001b[0;34m(\u001b[0m\u001b[0mself\u001b[0m\u001b[0;34m,\u001b[0m \u001b[0mkey\u001b[0m\u001b[0;34m,\u001b[0m \u001b[0mvalue\u001b[0m\u001b[0;34m)\u001b[0m\u001b[0;34m:\u001b[0m\u001b[0;34m\u001b[0m\u001b[0m\n\u001b[0;32m-> 1464\u001b[0;31m         \u001b[0mself\u001b[0m\u001b[0;34m.\u001b[0m\u001b[0m_data\u001b[0m\u001b[0;34m.\u001b[0m\u001b[0mset\u001b[0m\u001b[0;34m(\u001b[0m\u001b[0mkey\u001b[0m\u001b[0;34m,\u001b[0m \u001b[0mvalue\u001b[0m\u001b[0;34m)\u001b[0m\u001b[0;34m\u001b[0m\u001b[0m\n\u001b[0m\u001b[1;32m   1465\u001b[0m         \u001b[0mself\u001b[0m\u001b[0;34m.\u001b[0m\u001b[0m_clear_item_cache\u001b[0m\u001b[0;34m(\u001b[0m\u001b[0;34m)\u001b[0m\u001b[0;34m\u001b[0m\u001b[0m\n\u001b[1;32m   1466\u001b[0m \u001b[0;34m\u001b[0m\u001b[0m\n",
      "\u001b[0;32m/home/jeffrey_alstott/anaconda3/lib/python3.4/site-packages/pandas/core/internals.py\u001b[0m in \u001b[0;36mset\u001b[0;34m(self, item, value, check)\u001b[0m\n\u001b[1;32m   3416\u001b[0m         \u001b[0;32mexcept\u001b[0m \u001b[0mKeyError\u001b[0m\u001b[0;34m:\u001b[0m\u001b[0;34m\u001b[0m\u001b[0m\n\u001b[1;32m   3417\u001b[0m             \u001b[0;31m# This item wasn't present, just insert at end\u001b[0m\u001b[0;34m\u001b[0m\u001b[0;34m\u001b[0m\u001b[0m\n\u001b[0;32m-> 3418\u001b[0;31m             \u001b[0mself\u001b[0m\u001b[0;34m.\u001b[0m\u001b[0minsert\u001b[0m\u001b[0;34m(\u001b[0m\u001b[0mlen\u001b[0m\u001b[0;34m(\u001b[0m\u001b[0mself\u001b[0m\u001b[0;34m.\u001b[0m\u001b[0mitems\u001b[0m\u001b[0;34m)\u001b[0m\u001b[0;34m,\u001b[0m \u001b[0mitem\u001b[0m\u001b[0;34m,\u001b[0m \u001b[0mvalue\u001b[0m\u001b[0;34m)\u001b[0m\u001b[0;34m\u001b[0m\u001b[0m\n\u001b[0m\u001b[1;32m   3419\u001b[0m             \u001b[0;32mreturn\u001b[0m\u001b[0;34m\u001b[0m\u001b[0m\n\u001b[1;32m   3420\u001b[0m \u001b[0;34m\u001b[0m\u001b[0m\n",
      "\u001b[0;32m/home/jeffrey_alstott/anaconda3/lib/python3.4/site-packages/pandas/core/internals.py\u001b[0m in \u001b[0;36minsert\u001b[0;34m(self, loc, item, value, allow_duplicates)\u001b[0m\n\u001b[1;32m   3544\u001b[0m \u001b[0;34m\u001b[0m\u001b[0m\n\u001b[1;32m   3545\u001b[0m         \u001b[0;32mif\u001b[0m \u001b[0mlen\u001b[0m\u001b[0;34m(\u001b[0m\u001b[0mself\u001b[0m\u001b[0;34m.\u001b[0m\u001b[0mblocks\u001b[0m\u001b[0;34m)\u001b[0m \u001b[0;34m>\u001b[0m \u001b[0;36m100\u001b[0m\u001b[0;34m:\u001b[0m\u001b[0;34m\u001b[0m\u001b[0m\n\u001b[0;32m-> 3546\u001b[0;31m             \u001b[0mself\u001b[0m\u001b[0;34m.\u001b[0m\u001b[0m_consolidate_inplace\u001b[0m\u001b[0;34m(\u001b[0m\u001b[0;34m)\u001b[0m\u001b[0;34m\u001b[0m\u001b[0m\n\u001b[0m\u001b[1;32m   3547\u001b[0m \u001b[0;34m\u001b[0m\u001b[0m\n\u001b[1;32m   3548\u001b[0m     def reindex_axis(self, new_index, axis, method=None, limit=None,\n",
      "\u001b[0;32m/home/jeffrey_alstott/anaconda3/lib/python3.4/site-packages/pandas/core/internals.py\u001b[0m in \u001b[0;36m_consolidate_inplace\u001b[0;34m(self)\u001b[0m\n\u001b[1;32m   3279\u001b[0m             \u001b[0mself\u001b[0m\u001b[0;34m.\u001b[0m\u001b[0m_is_consolidated\u001b[0m \u001b[0;34m=\u001b[0m \u001b[0;32mTrue\u001b[0m\u001b[0;34m\u001b[0m\u001b[0m\n\u001b[1;32m   3280\u001b[0m             \u001b[0mself\u001b[0m\u001b[0;34m.\u001b[0m\u001b[0m_known_consolidated\u001b[0m \u001b[0;34m=\u001b[0m \u001b[0;32mTrue\u001b[0m\u001b[0;34m\u001b[0m\u001b[0m\n\u001b[0;32m-> 3281\u001b[0;31m             \u001b[0mself\u001b[0m\u001b[0;34m.\u001b[0m\u001b[0m_rebuild_blknos_and_blklocs\u001b[0m\u001b[0;34m(\u001b[0m\u001b[0;34m)\u001b[0m\u001b[0;34m\u001b[0m\u001b[0m\n\u001b[0m\u001b[1;32m   3282\u001b[0m \u001b[0;34m\u001b[0m\u001b[0m\n\u001b[1;32m   3283\u001b[0m     \u001b[0;32mdef\u001b[0m \u001b[0mget\u001b[0m\u001b[0;34m(\u001b[0m\u001b[0mself\u001b[0m\u001b[0;34m,\u001b[0m \u001b[0mitem\u001b[0m\u001b[0;34m,\u001b[0m \u001b[0mfastpath\u001b[0m\u001b[0;34m=\u001b[0m\u001b[0;32mTrue\u001b[0m\u001b[0;34m)\u001b[0m\u001b[0;34m:\u001b[0m\u001b[0;34m\u001b[0m\u001b[0m\n",
      "\u001b[0;32m/home/jeffrey_alstott/anaconda3/lib/python3.4/site-packages/pandas/core/internals.py\u001b[0m in \u001b[0;36m_rebuild_blknos_and_blklocs\u001b[0;34m(self)\u001b[0m\n\u001b[1;32m   2684\u001b[0m             \u001b[0mrl\u001b[0m \u001b[0;34m=\u001b[0m \u001b[0mblk\u001b[0m\u001b[0;34m.\u001b[0m\u001b[0mmgr_locs\u001b[0m\u001b[0;34m\u001b[0m\u001b[0m\n\u001b[1;32m   2685\u001b[0m             \u001b[0mnew_blknos\u001b[0m\u001b[0;34m[\u001b[0m\u001b[0mrl\u001b[0m\u001b[0;34m.\u001b[0m\u001b[0mindexer\u001b[0m\u001b[0;34m]\u001b[0m \u001b[0;34m=\u001b[0m \u001b[0mblkno\u001b[0m\u001b[0;34m\u001b[0m\u001b[0m\n\u001b[0;32m-> 2686\u001b[0;31m             \u001b[0mnew_blklocs\u001b[0m\u001b[0;34m[\u001b[0m\u001b[0mrl\u001b[0m\u001b[0;34m.\u001b[0m\u001b[0mindexer\u001b[0m\u001b[0;34m]\u001b[0m \u001b[0;34m=\u001b[0m \u001b[0mnp\u001b[0m\u001b[0;34m.\u001b[0m\u001b[0marange\u001b[0m\u001b[0;34m(\u001b[0m\u001b[0mlen\u001b[0m\u001b[0;34m(\u001b[0m\u001b[0mrl\u001b[0m\u001b[0;34m)\u001b[0m\u001b[0;34m)\u001b[0m\u001b[0;34m\u001b[0m\u001b[0m\n\u001b[0m\u001b[1;32m   2687\u001b[0m \u001b[0;34m\u001b[0m\u001b[0m\n\u001b[1;32m   2688\u001b[0m         \u001b[0;32mif\u001b[0m \u001b[0;34m(\u001b[0m\u001b[0mnew_blknos\u001b[0m \u001b[0;34m==\u001b[0m \u001b[0;34m-\u001b[0m\u001b[0;36m1\u001b[0m\u001b[0;34m)\u001b[0m\u001b[0;34m.\u001b[0m\u001b[0many\u001b[0m\u001b[0;34m(\u001b[0m\u001b[0;34m)\u001b[0m\u001b[0;34m:\u001b[0m\u001b[0;34m\u001b[0m\u001b[0m\n",
      "\u001b[0;31mKeyboardInterrupt\u001b[0m: "
     ]
    }
   ],
   "source": [
    "q = pd.SparseDataFrame(columns=q,index=q)"
   ]
  },
  {
   "cell_type": "code",
   "execution_count": null,
   "metadata": {
    "collapsed": true
   },
   "outputs": [],
   "source": [
    "q.density"
   ]
  },
  {
   "cell_type": "code",
   "execution_count": 97,
   "metadata": {
    "collapsed": false
   },
   "outputs": [],
   "source": [
    "def cooccurrence_counts(AB, A,B):\n",
    "    import scipy.sparse\n",
    "    cooccurrences = scipy.sparse.csr_matrix((ones_like(AB[A]),\n",
    "                                                      (AB[A], \n",
    "                                                       AB[B])))\n",
    "\n",
    "    present_cooccurrence = (cooccurrences.T * cooccurrences)\n",
    "    \n",
    "    all_cooccurrences = zeros((max(classes)+1, max(classes)+1))\n",
    "    all_cooccurrences[:present_cooccurrence.shape[0], \n",
    "                          :present_cooccurrence.shape[1]] = present_cooccurrence\n",
    "    \n",
    "    return all_cooccurrences"
   ]
  },
  {
   "cell_type": "code",
   "execution_count": 99,
   "metadata": {
    "collapsed": false
   },
   "outputs": [],
   "source": [
    "from scipy.sparse import csr_matrix"
   ]
  },
  {
   "cell_type": "markdown",
   "metadata": {},
   "source": [
    "Citations Counts\n",
    "==="
   ]
  },
  {
   "cell_type": "code",
   "execution_count": 23,
   "metadata": {
    "collapsed": true
   },
   "outputs": [],
   "source": [
    "citations = pd.read_csv(data_directory+'uspatentcitation.tsv', sep='\\t')"
   ]
  },
  {
   "cell_type": "code",
   "execution_count": 82,
   "metadata": {
    "collapsed": false
   },
   "outputs": [],
   "source": [
    "patent_forward_citations = citations['citation_id'].value_counts().reset_index()\n",
    "\n",
    "patent_forward_citations.rename(columns={'index':'patent_id',\n",
    "                                         'citation_id':'count'\n",
    "                                         },\n",
    "                                inplace=True\n",
    "                               ) \n",
    "\n",
    "patent_forward_citations['patent_id'] = pd.to_numeric(patent_forward_citations['patent_id'],\n",
    "                                                     errors='coerce')\n",
    "\n",
    "patent_forward_citations.dropna(inplace=True)\n",
    "\n",
    "patent_forward_citations.set_index('patent_id', inplace=True)"
   ]
  },
  {
   "cell_type": "code",
   "execution_count": 95,
   "metadata": {
    "collapsed": false
   },
   "outputs": [
    {
     "data": {
      "text/plain": [
       "574"
      ]
     },
     "execution_count": 95,
     "metadata": {},
     "output_type": "execute_result"
    }
   ],
   "source": [
    "from gc import collect\n",
    "del(citations)\n",
    "collect()"
   ]
  }
 ],
 "metadata": {
  "css": [
   ""
  ],
  "kernelspec": {
   "display_name": "Python 3",
   "language": "python",
   "name": "python3"
  },
  "language_info": {
   "codemirror_mode": {
    "name": "ipython",
    "version": 3
   },
   "file_extension": ".py",
   "mimetype": "text/x-python",
   "name": "python",
   "nbconvert_exporter": "python",
   "pygments_lexer": "ipython3",
   "version": "3.4.5"
  }
 },
 "nbformat": 4,
 "nbformat_minor": 0
}
