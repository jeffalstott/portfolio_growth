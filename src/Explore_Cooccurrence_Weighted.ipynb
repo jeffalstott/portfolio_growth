{
 "cells": [
  {
   "cell_type": "code",
   "execution_count": 3,
   "metadata": {
    "collapsed": false
   },
   "outputs": [
    {
     "name": "stdout",
     "output_type": "stream",
     "text": [
      "Populating the interactive namespace from numpy and matplotlib\n"
     ]
    }
   ],
   "source": [
    "import pandas as pd\n",
    "import seaborn as sns\n",
    "from gc import collect\n",
    "from scipy.sparse import csr_matrix\n",
    "from scipy.sparse import triu as sparse_triu\n",
    "%pylab inline"
   ]
  },
  {
   "cell_type": "code",
   "execution_count": 4,
   "metadata": {
    "collapsed": true
   },
   "outputs": [],
   "source": [
    "data_directory = '../data/'"
   ]
  },
  {
   "cell_type": "code",
   "execution_count": 3,
   "metadata": {
    "collapsed": false
   },
   "outputs": [],
   "source": [
    "patent_classes = pd.read_csv(data_directory+'cpc_current.tsv', sep='\\t')"
   ]
  },
  {
   "cell_type": "code",
   "execution_count": 4,
   "metadata": {
    "collapsed": true
   },
   "outputs": [],
   "source": [
    "patent_classes = patent_classes[patent_classes['category']=='primary']"
   ]
  },
  {
   "cell_type": "code",
   "execution_count": 5,
   "metadata": {
    "collapsed": false
   },
   "outputs": [],
   "source": [
    "patent_classes.drop(['uuid', 'category', 'sequence'], axis=1, inplace=True)"
   ]
  },
  {
   "cell_type": "code",
   "execution_count": 6,
   "metadata": {
    "collapsed": true
   },
   "outputs": [],
   "source": [
    "patent_classes['subgroup_aggregated_id'] = patent_classes['subgroup_id'].map(lambda x: x.split('/')[0])"
   ]
  },
  {
   "cell_type": "code",
   "execution_count": null,
   "metadata": {
    "collapsed": true
   },
   "outputs": [],
   "source": [
    "class_types = ['section', 'subsection', 'group', 'subgroup_aggregated', 'subgroup']"
   ]
  },
  {
   "cell_type": "code",
   "execution_count": null,
   "metadata": {
    "collapsed": false
   },
   "outputs": [
    {
     "name": "stdout",
     "output_type": "stream",
     "text": [
      "section\n",
      "8\n"
     ]
    }
   ],
   "source": [
    "class_lookups={}\n",
    "for c in class_types:\n",
    "    print(c)\n",
    "    values = sort(patent_classes[c+'_id'].unique())\n",
    "    n = len(values)\n",
    "    print(n)\n",
    "    lookup = pd.Series(index=values,data=arange(len(values)))\n",
    "    class_lookups[c] = lookup\n",
    "    patent_classes[c+'_id'] = lookup.ix[patent_classes[c+'_id']].values"
   ]
  },
  {
   "cell_type": "code",
   "execution_count": null,
   "metadata": {
    "collapsed": false,
    "scrolled": true
   },
   "outputs": [],
   "source": [
    "patent_years = pd.read_csv(data_directory+'patent.tsv', sep='\\t', usecols=['id', 'date'])\n",
    "\n",
    "patent_years.rename(columns={'id':'patent_id'}, inplace=True)\n",
    "patent_years['patent_id'] = pd.to_numeric(patent_years['patent_id'], errors='coerce')\n",
    "\n",
    "patent_years['date'] = pd.to_datetime(patent_years['date'], errors='coerce')\n",
    "patent_years['year'] = pd.DatetimeIndex(patent_years['date']).year\n",
    "\n",
    "patent_years.dropna(inplace=True)\n",
    "patent_years.set_index('patent_id', inplace=True)\n",
    "patent_years.index = patent_years.index.values.astype('int')"
   ]
  },
  {
   "cell_type": "code",
   "execution_count": null,
   "metadata": {
    "collapsed": true
   },
   "outputs": [],
   "source": [
    "patent_classes['year'] = patent_years.ix[patent_classes.index.values,'year'].values"
   ]
  },
  {
   "cell_type": "code",
   "execution_count": null,
   "metadata": {
    "collapsed": true
   },
   "outputs": [],
   "source": [
    "years = arange(1976,2016)"
   ]
  },
  {
   "cell_type": "code",
   "execution_count": null,
   "metadata": {
    "collapsed": false
   },
   "outputs": [],
   "source": [
    "from scipy.sparse import csr_matrix\n",
    "def cooccurrence_counts(AB, A,B,n=None):\n",
    "    if n is not None:\n",
    "        pairings = csr_matrix((ones_like(AB[A]),\n",
    "                               (AB[A], AB[B])),\n",
    "                             shape=(AB[A].max()+1,n))\n",
    "    else:\n",
    "        pairings = csr_matrix((ones_like(AB[A]),\n",
    "                               (AB[A], AB[B]))\n",
    "                              )\n",
    "    return (pairings.T * pairings)\n",
    "    \n",
    "#     return cooccurrences\n",
    "#     if n is not None:\n",
    "#         shape=(n,n)\n",
    "#     all_cooccurrences = zeros((max(classes)+1, max(classes)+1))\n",
    "#     all_cooccurrences[:present_cooccurrence.shape[0], \n",
    "#                           :present_cooccurrence.shape[1]] = present_cooccurrence"
   ]
  },
  {
   "cell_type": "code",
   "execution_count": null,
   "metadata": {
    "collapsed": false,
    "scrolled": true
   },
   "outputs": [],
   "source": [
    "cooccurrences = {}\n",
    "\n",
    "for c in class_types:\n",
    "    print(c)\n",
    "    cooccurrences[c] = {}\n",
    "    for year in years:\n",
    "        cooccurrences[c][year] =  cooccurrence_counts(patent_classes[patent_classes['year']==year], \n",
    "                                                      'patent_id', c+'_id',\n",
    "                                                      n=class_lookups[c].shape[0])"
   ]
  },
  {
   "cell_type": "code",
   "execution_count": null,
   "metadata": {
    "collapsed": false
   },
   "outputs": [],
   "source": [
    "for c in class_types:\n",
    "    print(c)\n",
    "    for year in years:\n",
    "        cooccurrences[c][year].setdiag(0)"
   ]
  },
  {
   "cell_type": "code",
   "execution_count": null,
   "metadata": {
    "collapsed": false
   },
   "outputs": [],
   "source": [
    "cooccurrences_cumsum = {}\n",
    "for c in class_types:\n",
    "    print(c)\n",
    "    cooccurrences_cumsum[c] = {}\n",
    "    first_year = True\n",
    "    for year in years:\n",
    "        if first_year:\n",
    "            cooccurrences_cumsum[c][year] = cooccurrences[c][year]\n",
    "            first_year = False\n",
    "        else:\n",
    "            cooccurrences_cumsum[c][year] = cooccurrences[c][year] + cooccurrences_cumsum[c][year-1]"
   ]
  },
  {
   "cell_type": "code",
   "execution_count": null,
   "metadata": {
    "collapsed": true
   },
   "outputs": [],
   "source": [
    "from igraph import Graph\n",
    "def network_properties(g, c, df):\n",
    "    if len(g)==1 or len(unique(g))==1:\n",
    "        return pd.Series({'density': nan, \n",
    "                      'n': 1,\n",
    "                      'isoclass': 0,\n",
    "                      })\n",
    "    else:\n",
    "        year = df.ix[g.index[0],'year']\n",
    "        net = sparse_triu(cooccurrences_cumsum[c][year-1][atleast_2d(unique(g)).T,unique(g)])\n",
    "        sources, targets = net.nonzero()\n",
    "    #     weights = net[sources, targets]\n",
    "    #     weights = array(weights)[0] #Need to convert Scipy's matrix format into a form appropriate for igraph\n",
    "        g = Graph(n=net.shape[0], edges=list(zip(sources, targets)), directed=False, \n",
    "    #               edge_attrs={'weight': weights}\n",
    "                 )\n",
    "        path_lengths = array(g.shortest_paths())\n",
    "        return pd.Series({'density': g.density(), \n",
    "                          'n': g.vcount(),\n",
    "                          'isoclass': g.isoclass() if g.vcount()==3 or g.vcount()==4 else 0,\n",
    "                          'transitivity': g.transitivity_undirected(),\n",
    "                          'V_density': (path_lengths==2).sum()/2 if g.vcount()>2 else nan,\n",
    "                          })\n",
    "import functools"
   ]
  },
  {
   "cell_type": "code",
   "execution_count": null,
   "metadata": {
    "collapsed": false
   },
   "outputs": [],
   "source": [
    "class_types"
   ]
  },
  {
   "cell_type": "code",
   "execution_count": null,
   "metadata": {
    "collapsed": false
   },
   "outputs": [],
   "source": [
    "from time import time\n",
    "\n",
    "network_dict = {}\n",
    "times = {}\n",
    "for c in class_types:\n",
    "    if c=='section':\n",
    "        continue\n",
    "    print(c)\n",
    "    t = time()\n",
    "    fnc = functools.partial(network_properties, c=c, df=patent_classes)\n",
    "    network_dict[c] = patent_classes[patent_classes['year']>1976].groupby('patent_id')[c+'_id'].apply(fnc)\n",
    "    times[c] = time()-t\n",
    "    print(time()-t)"
   ]
  },
  {
   "cell_type": "code",
   "execution_count": null,
   "metadata": {
    "collapsed": true
   },
   "outputs": [],
   "source": [
    "for k in network_dict.keys():\n",
    "    network_dict[k] = pd.DataFrame(network_dict[k]).unstack()"
   ]
  },
  {
   "cell_type": "code",
   "execution_count": null,
   "metadata": {
    "collapsed": true
   },
   "outputs": [],
   "source": [
    "patent_properties = pd.concat(network_dict, axis=1)\n",
    "patent_properties.columns = patent_properties.columns.droplevel(level=1)"
   ]
  },
  {
   "cell_type": "code",
   "execution_count": null,
   "metadata": {
    "collapsed": true
   },
   "outputs": [],
   "source": [
    "patent_properties['year'] = patent_years.ix[patent_properties.index.values,'year'].values"
   ]
  },
  {
   "cell_type": "code",
   "execution_count": null,
   "metadata": {
    "collapsed": false
   },
   "outputs": [],
   "source": [
    "# c = 'section'\n",
    "\n",
    "# network_densities = pd.Series(index=patent_years.index)\n",
    "# for name, g in patent_classes[patent_classes['year']>1976].groupby('patent_id'):\n",
    "#     year = g['year'].values[0]\n",
    "#     class_inds = g[c+'_id'].values\n",
    "#     binary_network = cooccurrences_cumsum[c][year-1][atleast_2d(class_inds).T,class_inds]>0\n",
    "#     network_densities.ix[name] = binary_network.mean()"
   ]
  },
  {
   "cell_type": "markdown",
   "metadata": {},
   "source": [
    "Citations Counts\n",
    "==="
   ]
  },
  {
   "cell_type": "code",
   "execution_count": null,
   "metadata": {
    "collapsed": true
   },
   "outputs": [],
   "source": [
    "citations = pd.read_csv(data_directory+'uspatentcitation.tsv', sep='\\t')"
   ]
  },
  {
   "cell_type": "code",
   "execution_count": null,
   "metadata": {
    "collapsed": true
   },
   "outputs": [],
   "source": [
    "citations['citation_id'] = pd.to_numeric(citations['citation_id'],errors='coerce')\n",
    "\n",
    "patent_forward_citations = citations['citation_id'].value_counts().reset_index()\n",
    "\n",
    "patent_forward_citations.rename(columns={'index':'patent_id',\n",
    "                                         'citation_id':'count'\n",
    "                                         },\n",
    "                                inplace=True\n",
    "                               ) \n",
    "\n",
    "# patent_forward_citations['patent_id'] = pd.to_numeric(patent_forward_citations['patent_id'],\n",
    "#                                                      errors='coerce')\n",
    "\n",
    "patent_forward_citations.dropna(inplace=True)\n",
    "patent_forward_citations['patent_id'] = patent_forward_citations['patent_id'].values.astype('int')\n",
    "patent_forward_citations.set_index('patent_id', inplace=True)\n",
    "\n",
    "# patent_forward_citations.index = patent_forward_citations.index.values.astype('int')"
   ]
  },
  {
   "cell_type": "code",
   "execution_count": null,
   "metadata": {
    "collapsed": false
   },
   "outputs": [],
   "source": [
    "from gc import collect\n",
    "del(citations)\n",
    "collect()"
   ]
  },
  {
   "cell_type": "code",
   "execution_count": null,
   "metadata": {
    "collapsed": false
   },
   "outputs": [],
   "source": [
    "patent_properties['citations_forward'] = patent_forward_citations.ix[patent_properties.index.values].fillna(0).values"
   ]
  },
  {
   "cell_type": "code",
   "execution_count": 5,
   "metadata": {
    "collapsed": false
   },
   "outputs": [],
   "source": [
    "store = pd.HDFStore(data_directory+'patent_properties.h5')\n",
    "# store['patent_properties'] = patent_properties\n",
    "patent_properties = store['patent_properties']\n",
    "store.close()"
   ]
  },
  {
   "cell_type": "code",
   "execution_count": null,
   "metadata": {
    "collapsed": true
   },
   "outputs": [],
   "source": [
    "patent_properties['citations_forward_mean_for_year'] = patent_properties.groupby('year')['citations_forward'].transform('mean')"
   ]
  },
  {
   "cell_type": "code",
   "execution_count": null,
   "metadata": {
    "collapsed": false
   },
   "outputs": [],
   "source": [
    "patent_properties['citations_forward_relative_to_year'] = patent_properties['citations_forward'].values/patent_properties['citations_forward_mean_for_year'].values"
   ]
  },
  {
   "cell_type": "code",
   "execution_count": null,
   "metadata": {
    "collapsed": false
   },
   "outputs": [],
   "source": [
    "# import powerlaw\n",
    "# fit = powerlaw.Fit(patent_properties['citations_forward'].values+1, xmin=1)\n",
    "# fit.distribution_compare('exponential', 'power_law')"
   ]
  },
  {
   "cell_type": "code",
   "execution_count": 68,
   "metadata": {
    "collapsed": false
   },
   "outputs": [
    {
     "data": {
      "text/plain": [
       "0.0    120660\n",
       "1.0      3811\n",
       "2.0       241\n",
       "3.0        21\n",
       "Name: (subgroup, isoclass), dtype: int64"
      ]
     },
     "execution_count": 68,
     "metadata": {},
     "output_type": "execute_result"
    }
   ],
   "source": [
    "patent_properties[patent_properties[('subgroup','n')]==3][('subgroup', 'isoclass')].value_counts()"
   ]
  },
  {
   "cell_type": "code",
   "execution_count": 69,
   "metadata": {
    "collapsed": false
   },
   "outputs": [
    {
     "data": {
      "text/plain": [
       "0.0    39971\n",
       "1.0     1810\n",
       "2.0      162\n",
       "5.0       22\n",
       "6.0       16\n",
       "4.0        8\n",
       "3.0        8\n",
       "7.0        3\n",
       "9.0        1\n",
       "Name: (subgroup, isoclass), dtype: int64"
      ]
     },
     "execution_count": 69,
     "metadata": {},
     "output_type": "execute_result"
    }
   ],
   "source": [
    "patent_properties[patent_properties[('subgroup','n')]==4][('subgroup', 'isoclass')].value_counts()"
   ]
  },
  {
   "cell_type": "code",
   "execution_count": 34,
   "metadata": {
    "collapsed": false,
    "scrolled": false
   },
   "outputs": [
    {
     "name": "stdout",
     "output_type": "stream",
     "text": [
      "0\n"
     ]
    },
    {
     "data": {
      "image/png": "[encoded data removed]",
      "text/plain": [
       "<IPython.core.display.Image object>"
      ]
     },
     "metadata": {},
     "output_type": "display_data"
    },
    {
     "name": "stdout",
     "output_type": "stream",
     "text": [
      "1\n"
     ]
    },
    {
     "data": {
      "image/png": "[encoded data removed]",
      "text/plain": [
       "<IPython.core.display.Image object>"
      ]
     },
     "metadata": {},
     "output_type": "display_data"
    },
    {
     "name": "stdout",
     "output_type": "stream",
     "text": [
      "2\n"
     ]
    },
    {
     "data": {
      "image/png": "[encoded data removed]",
      "text/plain": [
       "<IPython.core.display.Image object>"
      ]
     },
     "metadata": {},
     "output_type": "display_data"
    },
    {
     "name": "stdout",
     "output_type": "stream",
     "text": [
      "3\n"
     ]
    },
    {
     "data": {
      "image/png": "[encoded data removed]",
      "text/plain": [
       "<IPython.core.display.Image object>"
      ]
     },
     "metadata": {},
     "output_type": "display_data"
    },
    {
     "name": "stdout",
     "output_type": "stream",
     "text": [
      "4\n"
     ]
    },
    {
     "data": {
      "image/png": "[encoded data removed]",
      "text/plain": [
       "<IPython.core.display.Image object>"
      ]
     },
     "metadata": {},
     "output_type": "display_data"
    },
    {
     "name": "stdout",
     "output_type": "stream",
     "text": [
      "5\n"
     ]
    },
    {
     "data": {
      "image/png": "[encoded data removed]",
      "text/plain": [
       "<IPython.core.display.Image object>"
      ]
     },
     "metadata": {},
     "output_type": "display_data"
    },
    {
     "name": "stdout",
     "output_type": "stream",
     "text": [
      "6\n"
     ]
    },
    {
     "data": {
      "image/png": "[encoded data removed]",
      "text/plain": [
       "<IPython.core.display.Image object>"
      ]
     },
     "metadata": {},
     "output_type": "display_data"
    },
    {
     "name": "stdout",
     "output_type": "stream",
     "text": [
      "7\n"
     ]
    },
    {
     "data": {
      "image/png": "[encoded data removed]",
      "text/plain": [
       "<IPython.core.display.Image object>"
      ]
     },
     "metadata": {},
     "output_type": "display_data"
    },
    {
     "name": "stdout",
     "output_type": "stream",
     "text": [
      "8\n"
     ]
    },
    {
     "data": {
      "image/png": "[encoded data removed]",
      "text/plain": [
       "<IPython.core.display.Image object>"
      ]
     },
     "metadata": {},
     "output_type": "display_data"
    },
    {
     "name": "stdout",
     "output_type": "stream",
     "text": [
      "9\n"
     ]
    },
    {
     "data": {
      "image/png": "[encoded data removed]",
      "text/plain": [
       "<IPython.core.display.Image object>"
      ]
     },
     "metadata": {},
     "output_type": "display_data"
    },
    {
     "name": "stdout",
     "output_type": "stream",
     "text": [
      "10\n"
     ]
    },
    {
     "data": {
      "image/png": "[encoded data removed]",
      "text/plain": [
       "<IPython.core.display.Image object>"
      ]
     },
     "metadata": {},
     "output_type": "display_data"
    }
   ],
   "source": [
    "import igraph as ig\n",
    "from IPython.display import Image\n",
    "for i in range(11):\n",
    "    ig.plot(ig.Graph.Isoclass(4, i, directed=False), \"isoclass_%d.png\"%i, bbox=(100, 100), layout=\"circle\")\n",
    "    fig = Image(filename=('isoclass_%d.png'%i))\n",
    "    print(i)\n",
    "    display(fig)"
   ]
  },
  {
   "cell_type": "code",
   "execution_count": null,
   "metadata": {
    "collapsed": false
   },
   "outputs": [],
   "source": [
    "patent_properties[((patent_properties[('subgroup','n')]==3) *\n",
    "                   (patent_properties['year']<2005)\n",
    "                   )].groupby([('subgroup','isoclass')])['citations_forward_relative_to_year'].mean()"
   ]
  },
  {
   "cell_type": "code",
   "execution_count": null,
   "metadata": {
    "collapsed": false
   },
   "outputs": [],
   "source": [
    "patent_properties[((patent_properties[('subgroup','n')]==4) *\n",
    "                   (patent_properties['year']<2005)\n",
    "                   )].groupby([('subgroup','isoclass')])['citations_forward_relative_to_year'].mean()"
   ]
  },
  {
   "cell_type": "code",
   "execution_count": null,
   "metadata": {
    "collapsed": false
   },
   "outputs": [],
   "source": [
    "df = patent_properties[((patent_properties[('subgroup','n')]==3) *\n",
    "                   (patent_properties['year']<2005)\n",
    "                   )]\n",
    "\n",
    "sns.violinplot(x=('subgroup', 'isoclass'), y='citations_forward_relative_to_year',\n",
    "               data=df,\n",
    "               )"
   ]
  },
  {
   "cell_type": "code",
   "execution_count": null,
   "metadata": {
    "collapsed": true
   },
   "outputs": [],
   "source": [
    "# http://www.graphclasses.org/smallgraphs.html#nodes4\n",
    "# http://math.stackexchange.com/questions/599675/why-there-are-11-non-isomorphic-graphs-of-order-4\n",
    "# http://math.stackexchange.com/questions/683765/how-can-we-make-11-non-isomorphic-graphs-on-4-vertices"
   ]
  }
 ],
 "metadata": {
  "css": [
   ""
  ],
  "kernelspec": {
   "display_name": "Python 3",
   "language": "python",
   "name": "python3"
  },
  "language_info": {
   "codemirror_mode": {
    "name": "ipython",
    "version": 3
   },
   "file_extension": ".py",
   "mimetype": "text/x-python",
   "name": "python",
   "nbconvert_exporter": "python",
   "pygments_lexer": "ipython3",
   "version": "3.4.5"
  }
 },
 "nbformat": 4,
 "nbformat_minor": 0
}
