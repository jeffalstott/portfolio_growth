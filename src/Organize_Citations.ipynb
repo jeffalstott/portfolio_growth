{
 "cells": [
  {
   "cell_type": "markdown",
   "metadata": {
    "variables": {}
   },
   "source": [
    "Setup\n",
    "===="
   ]
  },
  {
   "cell_type": "code",
   "execution_count": 1,
   "metadata": {
    "collapsed": false
   },
   "outputs": [
    {
     "name": "stdout",
     "output_type": "stream",
     "text": [
      "Populating the interactive namespace from numpy and matplotlib\n"
     ]
    },
    {
     "name": "stderr",
     "output_type": "stream",
     "text": [
      "/home/jeffrey_alstott/anaconda3/lib/python3.4/site-packages/matplotlib/__init__.py:872: UserWarning: axes.color_cycle is deprecated and replaced with axes.prop_cycle; please use the latter.\n",
      "  warnings.warn(self.msg_depr % (key, alt_key))\n"
     ]
    }
   ],
   "source": [
    "import pandas as pd\n",
    "import seaborn as sns\n",
    "%pylab inline"
   ]
  },
  {
   "cell_type": "markdown",
   "metadata": {},
   "source": [
    "Import Years and CPC Classes Data\n",
    "==="
   ]
  },
  {
   "cell_type": "code",
   "execution_count": 2,
   "metadata": {
    "collapsed": true
   },
   "outputs": [],
   "source": [
    "# data_directory = '../data/'"
   ]
  },
  {
   "cell_type": "code",
   "execution_count": 3,
   "metadata": {
    "collapsed": false
   },
   "outputs": [],
   "source": [
    "# IPC_patent_attributes = pd.read_csv('../Data/pid_issdate_ipc.csv')\n",
    "# IPC_patent_attributes.ISSDATE = IPC_patent_attributes.ISSDATE.map(lambda x: int(x[-4:]))\n",
    "# IPC_patent_attributes.rename(columns={\n",
    "#                     'ISSDATE': 'Year',\n",
    "#                     'IPC3': 'Class_IPC',\n",
    "#                     'PID': 'Patent',\n",
    "#                     },\n",
    "#                  inplace=True)\n",
    "IPC_patent_attributes = pd.read_csv(data_directory+'patent_ipc_1976_2010.csv',\n",
    "                                   names=['Patent', 'Class_IPC', 'Class_IPC4', 'Year'])\n",
    "IPC_patent_attributes.Year = IPC_patent_attributes.Year.map(lambda x: int(x[-4:]))\n",
    "\n",
    "IPC_patent_attributes.set_index('Patent', inplace=True)\n",
    "\n",
    "### Convert the alphanumeric IPC classes to a purely numeric system, and store in the conversion in a lookup table\n",
    "# IPC_classes = sort(IPC_patent_attributes['Class_IPC'].unique())\n",
    "# IPC_class_lookup = pd.Series(index=IPC_classes,\n",
    "#                       data=arange(len(IPC_classes)))\n",
    "IPC_class_lookup = pd.read_hdf(data_directory+'class_lookup_tables.h5', 'IPC_class_lookup')\n",
    "IPC_patent_attributes['Class_IPC'] = IPC_class_lookup.ix[IPC_patent_attributes['Class_IPC']].values\n",
    "\n",
    "### Convert the alphanumeric IPC4 classes to a purely numeric system, and store in the conversion in a lookup table\n",
    "# IPC4_classes = sort(IPC_patent_attributes['Class_IPC4'].unique())\n",
    "# IPC4_class_lookup = pd.Series(index=IPC4_classes,\n",
    "#                       data=arange(len(IPC4_classes)))\n",
    "IPC4_class_lookup = pd.read_hdf(data_directory+'class_lookup_tables.h5', 'IPC4_class_lookup')\n",
    "IPC_patent_attributes['Class_IPC4'] = IPC4_class_lookup.ix[IPC_patent_attributes['Class_IPC4']].values"
   ]
  },
  {
   "cell_type": "markdown",
   "metadata": {},
   "source": [
    "Import USPC Classes Data\n",
    "==="
   ]
  },
  {
   "cell_type": "code",
   "execution_count": 9,
   "metadata": {
    "collapsed": true
   },
   "outputs": [],
   "source": [
    "USPC_patent_attributes = pd.read_csv(data_directory+'PATENT_US_CLASS_SUBCLASSES_1975_2011.csv',\n",
    "                               header=None,\n",
    "                               names=['Patent', 'Class_USPC', 'Subclass_USPC'])\n",
    "\n",
    "#Hope that the first class associated with each patent is the \"main\" class\n",
    "USPC_patent_attributes.drop_duplicates([\"Patent\"], inplace=True) \n",
    "\n",
    "USPC_patent_attributes.set_index('Patent', inplace=True)\n",
    "# USPC_patent_attributes.ix[:,'Class_USPC'] = USPC_patent_attributes['Class_USPC'].map(lambda x: x if type(x)==int else int(x) if x.isdigit() else nan)\n",
    "# USPC_patent_attributes.dropna(inplace=True)\n",
    "USPC_patent_attributes.drop(['Subclass_USPC'], axis=1, inplace=True)\n",
    "\n",
    "### Convert the non-contiguous USPC classes to a contiguous numeric system, and store in the conversion in a lookup table\n",
    "# USPC_classes = sort(USPC_patent_attributes['Class_USPC'].unique())\n",
    "# USPC_class_lookup = pd.Series(index=USPC_classes,\n",
    "#                       data=arange(len(USPC_classes)))\n",
    "USPC_class_lookup = pd.read_hdf(data_directory+'class_lookup_tables.h5', 'USPC_class_lookup')\n",
    "USPC_patent_attributes['Class_USPC'] = USPC_class_lookup.ix[USPC_patent_attributes['Class_USPC']].values"
   ]
  },
  {
   "cell_type": "code",
   "execution_count": 10,
   "metadata": {
    "collapsed": false
   },
   "outputs": [],
   "source": [
    "patent_attributes = IPC_patent_attributes.merge(USPC_patent_attributes,\n",
    "                                               right_index=True,\n",
    "                                               left_index=True)"
   ]
  },
  {
   "cell_type": "markdown",
   "metadata": {},
   "source": [
    "Import Citation Data and Add Patent Attributes\n",
    "==="
   ]
  },
  {
   "cell_type": "code",
   "execution_count": 11,
   "metadata": {
    "collapsed": false
   },
   "outputs": [
    {
     "name": "stderr",
     "output_type": "stream",
     "text": [
      "/home/jeffrey_alstott/anaconda3/lib/python3.4/site-packages/pandas/io/parsers.py:1170: DtypeWarning: Columns (1) have mixed types. Specify dtype option on import or set low_memory=False.\n",
      "  data = self._reader.read(nrows)\n"
     ]
    }
   ],
   "source": [
    "citations = pd.read_csv(data_directory+'citing_cited.csv', header=None, names=['Citing_Patent', 'Cited_Patent'])\n",
    "\n",
    "citations.Cited_Patent = citations.Cited_Patent.map(lambda x: x if type(x)==int else int(x) if x.isdigit() else nan)\n",
    "\n",
    "citations.dropna(inplace=True)\n",
    "\n",
    "citations.drop_duplicates(inplace=True)"
   ]
  },
  {
   "cell_type": "code",
   "execution_count": 12,
   "metadata": {
    "collapsed": false
   },
   "outputs": [],
   "source": [
    "citations_made_per_patent = citations['Citing_Patent'].value_counts()\n",
    "citations_received_per_patent = citations['Cited_Patent'].value_counts()\n",
    "\n",
    "patent_attributes['Citations_Made'] = citations_made_per_patent.ix[patent_attributes.index]\n",
    "patent_attributes['Citations_Recieved'] = citations_received_per_patent.ix[patent_attributes.index]"
   ]
  },
  {
   "cell_type": "code",
   "execution_count": 13,
   "metadata": {
    "collapsed": false
   },
   "outputs": [],
   "source": [
    "citations = citations.merge(patent_attributes, \n",
    "                left_on='Citing_Patent', \n",
    "                right_index=True,\n",
    "                )\n",
    "\n",
    "citations = citations.merge(patent_attributes, \n",
    "                left_on='Cited_Patent', \n",
    "                right_index=True,\n",
    "                suffixes=('_Citing_Patent','_Cited_Patent'))"
   ]
  },
  {
   "cell_type": "markdown",
   "metadata": {},
   "source": [
    "Remove obviously incorrect/error data\n",
    "==="
   ]
  },
  {
   "cell_type": "code",
   "execution_count": 14,
   "metadata": {
    "collapsed": false
   },
   "outputs": [],
   "source": [
    "# Removes citations in which the cited patent is two years or more YOUNGER than the citing patent\n",
    "# This shouldn't happen, but does, due to typos in the USPTO data -_-\n",
    "citations = citations[citations.Year_Citing_Patent >= citations.Year_Cited_Patent-2]"
   ]
  },
  {
   "cell_type": "code",
   "execution_count": 15,
   "metadata": {
    "collapsed": false
   },
   "outputs": [],
   "source": [
    "citations['Same_Class_IPC'] = citations.Class_IPC_Cited_Patent==citations.Class_IPC_Citing_Patent\n",
    "citations['Same_Class_IPC4'] = citations.Class_IPC4_Cited_Patent==citations.Class_IPC4_Citing_Patent\n",
    "citations['Same_Class_USPC'] = citations.Class_USPC_Cited_Patent==citations.Class_USPC_Citing_Patent"
   ]
  },
  {
   "cell_type": "code",
   "execution_count": 16,
   "metadata": {
    "collapsed": false
   },
   "outputs": [],
   "source": [
    "# same_class_ind = citations['Same_Class_IPC']==True\n",
    "# same_class_group_sizes = citations.ix[same_class_ind].groupby(['Year_Citing_Patent', \n",
    "#     'Year_Cited_Patent', \n",
    "#     'Class_IPC_Citing_Patent', \n",
    "#     ])['Cited_Patent'].count()\n",
    "\n",
    "# cross_class_ind = -same_class_ind\n",
    "# cross_class_group_sizes = citations.ix[cross_class_ind].groupby(['Year_Citing_Patent', \n",
    "#     'Year_Cited_Patent', \n",
    "#     ])['Cited_Patent'].count()\n",
    "\n",
    "# group_sizes_IPC = concatenate((same_class_group_sizes.values, cross_class_group_sizes.values))\n",
    "\n",
    "# ####\n",
    "# same_class_ind = citations['Same_Class_IPC4']==True\n",
    "# same_class_group_sizes = citations.ix[same_class_ind].groupby(['Year_Citing_Patent', \n",
    "#     'Year_Cited_Patent', \n",
    "#     'Class_IPC_Citing_Patent', \n",
    "#     ])['Cited_Patent'].count()\n",
    "\n",
    "# cross_class_ind = -same_class_ind\n",
    "# cross_class_group_sizes = citations.ix[cross_class_ind].groupby(['Year_Citing_Patent', \n",
    "#     'Year_Cited_Patent', \n",
    "#     ])['Cited_Patent'].count()\n",
    "\n",
    "# group_sizes_IPC4 = concatenate((same_class_group_sizes.values, cross_class_group_sizes.values))\n",
    "\n",
    "# ####\n",
    "# same_class_ind = citations['Same_Class_USPC']==True\n",
    "# same_class_group_sizes = citations.ix[same_class_ind].groupby(['Year_Citing_Patent', \n",
    "#     'Year_Cited_Patent', \n",
    "#     'Class_USPC_Citing_Patent', \n",
    "#     ])['Cited_Patent'].count()\n",
    "\n",
    "# cross_class_ind = -same_class_ind\n",
    "# cross_class_group_sizes = citations.ix[cross_class_ind].groupby(['Year_Citing_Patent', \n",
    "#     'Year_Cited_Patent', \n",
    "#     ])['Cited_Patent'].count()\n",
    "# group_sizes_USPC = concatenate((same_class_group_sizes.values, cross_class_group_sizes.values))"
   ]
  },
  {
   "cell_type": "code",
   "execution_count": 17,
   "metadata": {
    "collapsed": false
   },
   "outputs": [],
   "source": [
    "# sns.set_style(\"darkgrid\")\n",
    "# fig_one_col = 3.4252#3.35\n",
    "# fig = figure(figsize=(fig_one_col, fig_one_col/1.618))\n",
    "\n",
    "# import powerlaw\n",
    "# x, y = powerlaw.cdf(group_sizes_IPC)\n",
    "# plot(x-1, y, linewidth=2, label='IPC3')\n",
    "\n",
    "# x, y = powerlaw.cdf(group_sizes_IPC4)\n",
    "# plot(x-1, y, linewidth=2, label='IPC4')\n",
    "\n",
    "# x, y = powerlaw.cdf(group_sizes_USPC)\n",
    "# plot(x-1, y, linewidth=2, label='USPC')\n",
    "# xscale('log')\n",
    "# xlim(xmax=max(x))\n",
    "# legend(loc=4)\n",
    "\n",
    "# xlabel(\"Size of Group of Citations with\\n\"\n",
    "#        \"Same Source and Target Years\\n\"\n",
    "#        \"and Cross-Class Identification\")\n",
    "# ylabel(\"p(Size of\\nGroup<X)\")\n",
    "\n",
    "# tight_layout()\n",
    "# sns.despine()\n",
    "# figures_directory = '../manuscript/figs/'\n",
    "# filename = 'Citation_Group_Sizes'\n",
    "# savefig(figures_directory+filename+'.pdf', bbox_inches='tight')"
   ]
  },
  {
   "cell_type": "code",
   "execution_count": 64,
   "metadata": {
    "collapsed": false,
    "scrolled": true
   },
   "outputs": [],
   "source": [
    "store = pd.HDFStore(data_directory+'citations_organized.h5', table=True)\n",
    "store.put('/citations', citations, append=False)#'table', append=False)\n",
    "store.put('/IPC_class_lookup', IPC_class_lookup, 'table', append=False)\n",
    "store.put('/IPC4_class_lookup', IPC4_class_lookup, 'table', append=False)\n",
    "store.put('/USPC_class_lookup', USPC_class_lookup, 'table', append=False)\n",
    "\n",
    "store.put('/patent_attributes', patent_attributes, 'table', append=False)\n",
    "\n",
    "store.close()"
   ]
  }
 ],
 "metadata": {
  "css": [
   ""
  ],
  "kernelspec": {
   "display_name": "Python 3",
   "language": "python",
   "name": "python3"
  },
  "language_info": {
   "codemirror_mode": {
    "name": "ipython",
    "version": 3
   },
   "file_extension": ".py",
   "mimetype": "text/x-python",
   "name": "python",
   "nbconvert_exporter": "python",
   "pygments_lexer": "ipython3",
   "version": "3.4.3"
  }
 },
 "nbformat": 4,
 "nbformat_minor": 0
}
